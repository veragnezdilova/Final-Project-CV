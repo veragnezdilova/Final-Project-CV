{
 "cells": [
  {
   "cell_type": "markdown",
   "id": "f6d00dea",
   "metadata": {},
   "source": [
    "Object tracking + color detection\n",
    "---\n",
    "by Vera Gnezdilova, Vadim Khanin, Sofya Rozhok"
   ]
  },
  {
   "cell_type": "markdown",
   "id": "0d2b6991",
   "metadata": {},
   "source": [
    "The purpose of the project was to track the movement of vehicles in a traffic surveillance and detect colors of cars."
   ]
  },
  {
   "cell_type": "code",
   "execution_count": null,
   "id": "c450366f",
   "metadata": {},
   "outputs": [],
   "source": [
    "import cv2\n",
    "import numpy as np\n",
    "import requests\n",
    "import shutil\n",
    "import webcolors"
   ]
  },
  {
   "cell_type": "code",
   "execution_count": 1,
   "id": "3e56dd88",
   "metadata": {},
   "outputs": [],
   "source": [
    "#Function to identify color names\n",
    "\n",
    "def closest_colour(requested_colour):\n",
    "    min_colours = {}\n",
    "    for key, name in webcolors.CSS3_HEX_TO_NAMES.items():\n",
    "        r_c, g_c, b_c = webcolors.hex_to_rgb(key)\n",
    "        rd = (r_c - requested_colour[0]) ** 2\n",
    "        gd = (g_c - requested_colour[1]) ** 2\n",
    "        bd = (b_c - requested_colour[2]) ** 2\n",
    "        min_colours[(rd + gd + bd)] = name\n",
    "    return min_colours[min(min_colours.keys())]\n",
    "\n",
    "def get_colour_name(requested_colour):\n",
    "    try:\n",
    "        # Attempts direct color matching using webcolors.rgb_to_name\n",
    "        closest_name = actual_name = webcolors.rgb_to_name(requested_colour)\n",
    "    except ValueError:\n",
    "        # If direct matching fails, finds the closest matching color using closest_colour\n",
    "        closest_name = closest_colour(requested_colour)\n",
    "        actual_name = None\n",
    "    # Returns both the actual and closest color names\n",
    "    return actual_name, closest_name\n",
    "\n"
   ]
  },
  {
   "cell_type": "code",
   "execution_count": 2,
   "id": "41df6fb7",
   "metadata": {},
   "outputs": [],
   "source": [
    "# Load the pre-trained Haar Cascade classifier for car detection\n",
    "# More about Haar feature-based cascade classifier at: https://docs.opencv.org/3.4/db/d28/tutorial_cascade_classifier.html\n",
    "car_cascade = cv2.CascadeClassifier('cars.xml')\n",
    "\n",
    "# Read the input video\n",
    "cap = cv2.VideoCapture('test_vid2.mp4')\n",
    "\n",
    "# Check if the video file is opened successfully\n",
    "if not cap.isOpened():\n",
    "    print(\"Error opening video file\")\n",
    "\n",
    "# Set up video writer to save the processed video\n",
    "fourcc = cv2.VideoWriter_fourcc(*'XVID')\n",
    "out = cv2.VideoWriter('output_video_with_cars2.avi', fourcc, 20.0, (int(cap.get(3)), int(cap.get(4))))\n",
    "                    \n",
    "\n",
    "while cap.isOpened():\n",
    "    ret, frame = cap.read()\n",
    "\n",
    "    if not ret:\n",
    "        break\n",
    "\n",
    "    gray = cv2.cvtColor(frame, cv2.COLOR_BGR2GRAY)\n",
    "\n",
    "    # Detect cars in the frame\n",
    "    cars = car_cascade.detectMultiScale(gray, scaleFactor=1.1, minNeighbors=5, minSize=(30, 30))\n",
    "\n",
    "    # Draw rectangles and color around the detected cars \n",
    "    for (x, y, w, h) in cars:\n",
    "        roi = frame[y:y+h, x:x+w]\n",
    "        pixel_values = roi.reshape((-1, 3))\n",
    "        pixel_values = np.float32(pixel_values)\n",
    "        criteria = (cv2.TERM_CRITERIA_EPS + cv2.TERM_CRITERIA_MAX_ITER, 100, 0.2)\n",
    "        _, labels, (centers) = cv2.kmeans(pixel_values, 3, None, criteria, 10, cv2.KMEANS_PP_CENTERS)\n",
    "        centers = np.uint8(centers)\n",
    "        dominant_color = centers[np.argmax(np.unique(labels, return_counts=True)[1])]\n",
    "        cv2.rectangle(frame, (x, y), (x+w, y+h), (255, 0, 0), 2)   \n",
    "        color = dominant_color\n",
    "        actual_name, closest_name = get_colour_name(color)\n",
    "        cv2.putText(frame,closest_name, (x, y - 10), cv2.FONT_HERSHEY_SIMPLEX, 0.5, (255, 255, 255), 2)\n",
    "    # Write the frame with car rectangles to the output video\n",
    "    out.write(frame)\n",
    "\n",
    "# Release video capture object and video writer\n",
    "cap.release()\n",
    "out.release()"
   ]
  },
  {
   "cell_type": "code",
   "execution_count": null,
   "id": "db1fc6d9",
   "metadata": {},
   "outputs": [],
   "source": []
  }
 ],
 "metadata": {
  "kernelspec": {
   "display_name": "Python 3",
   "language": "python",
   "name": "python3"
  },
  "language_info": {
   "codemirror_mode": {
    "name": "ipython",
    "version": 3
   },
   "file_extension": ".py",
   "mimetype": "text/x-python",
   "name": "python",
   "nbconvert_exporter": "python",
   "pygments_lexer": "ipython3",
   "version": "3.7.9"
  }
 },
 "nbformat": 4,
 "nbformat_minor": 5
}
